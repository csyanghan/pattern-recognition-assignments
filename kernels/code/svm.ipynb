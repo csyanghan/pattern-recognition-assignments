{
 "metadata": {
  "language_info": {
   "codemirror_mode": {
    "name": "ipython",
    "version": 3
   },
   "file_extension": ".py",
   "mimetype": "text/x-python",
   "name": "python",
   "nbconvert_exporter": "python",
   "pygments_lexer": "ipython3",
   "version": "3.8.3-final"
  },
  "orig_nbformat": 2,
  "kernelspec": {
   "name": "python3",
   "display_name": "Python 3"
  }
 },
 "nbformat": 4,
 "nbformat_minor": 2,
 "cells": [
  {
   "source": [
    "\\begin{cases}\n",
    "min \\ \\frac{1}{2} ||W||^2 \\\\\n",
    "s.t. \\  y_i(W*X+b) \\geq 1\n",
    "\\end{cases}"
   ],
   "cell_type": "markdown",
   "metadata": {}
  },
  {
   "source": [
    "SVM 自带 $L2$ 正则项 $\\frac{1}{2}||W||^2$, 正则化手段是抑制过拟合的一种方法，因为发生过拟合时参数$W$一般是较大的值，而正则化主要是对$W$进行惩罚，从而降低模型的复杂性。\\\\\n",
    "\n",
    "通过拉格朗日变换得到新的目标函数\n",
    "$L_P = \\frac{1}{2}\\ {\\left \\| W \\right \\|}^{2} - \\sum_{i=1}^{N}\\lambda_i(y_i(W  \\cdot  X + b) - 1) $\n",
    "\n",
    "对 $Lp$ 关于 $W$ 和 $b$ 求偏导，并令它们等于零得:\n",
    "\n",
    "$\\frac{\\partial L_P}{\\partial W} = 0 \\Rightarrow W = \\sum_{i=1}^{N}\\lambda_i y_i X_i$\n",
    "\n",
    "$\\frac{\\partial L_P}{\\partial b} = 0 \\Rightarrow \\sum_{i=1}^{N}\\lambda_i y_i = 0$\n",
    "\n",
    "这种变换导致如下拉格朗日乘子约束，称作KTT条件\n",
    "\n",
    "$\\lambda_{i} \\geqslant 0$\n",
    "\n",
    "$\\lambda_{i} [y_{i}(W \\cdot X_i+b)-1] = 0$\n",
    "\n",
    "将$W\\ b$带入$Lp$得\n",
    "\n",
    "$L_D = \\sum_{i=1}^{N} \\lambda_i - \\frac{1}{2}\\sum_{i=1}^{N}\\sum_{j=1}^{N} \\lambda_i \\lambda_j y_i y_j X_i X_j$\n"
   ],
   "cell_type": "markdown",
   "metadata": {}
  },
  {
   "cell_type": "code",
   "execution_count": 1,
   "metadata": {},
   "outputs": [],
   "source": [
    "import numpy as np"
   ]
  },
  {
   "cell_type": "code",
   "execution_count": 2,
   "metadata": {},
   "outputs": [],
   "source": [
    "import cvxopt\n",
    "import cvxopt.solvers"
   ]
  },
  {
   "cell_type": "code",
   "execution_count": 4,
   "metadata": {},
   "outputs": [],
   "source": [
    "class Kernel:\n",
    "\n",
    "    @staticmethod\n",
    "    def linear():\n",
    "        return lambda x,y: np.inner(x,y)\n",
    "    \n",
    "    @staticmethod\n",
    "    def gaussian(sigma):\n",
    "        return lambda X, y: np.exp(-np.sqrt(np.linalg.norm(X-y) ** 2 / (2 * sigma ** 2)))"
   ]
  },
  {
   "cell_type": "code",
   "execution_count": 5,
   "metadata": {},
   "outputs": [],
   "source": [
    "class SVC:\n",
    "\n",
    "    def __init__(self, kernel='linear', C=1.0, sigma=1.0, **kwargs):\n",
    "        if kernel not in ['linear', 'gaussian']:\n",
    "            raise ValueError(\"Now only support linear and gaussian kernel\")\n",
    "        elif kernel == 'linear':\n",
    "            kernel_fn = Kernel.linear()\n",
    "        else:\n",
    "            kernel_fn = Kernel.gaussian(sigma)\n",
    "        self.kernel = kernel_fn  # kernel func\n",
    "        self.C = C\n",
    "        self._predictor = None"
   ]
  },
  {
   "cell_type": "code",
   "execution_count": null,
   "metadata": {},
   "outputs": [],
   "source": []
  }
 ]
}