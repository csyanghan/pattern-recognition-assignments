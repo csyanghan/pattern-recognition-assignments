{
 "metadata": {
  "language_info": {
   "codemirror_mode": {
    "name": "ipython",
    "version": 3
   },
   "file_extension": ".py",
   "mimetype": "text/x-python",
   "name": "python",
   "nbconvert_exporter": "python",
   "pygments_lexer": "ipython3",
   "version": "3.8.3-final"
  },
  "orig_nbformat": 2,
  "kernelspec": {
   "name": "python3",
   "display_name": "Python 3"
  }
 },
 "nbformat": 4,
 "nbformat_minor": 2,
 "cells": [
  {
   "cell_type": "code",
   "execution_count": 75,
   "metadata": {},
   "outputs": [],
   "source": [
    "import numpy as np\n",
    "import pandas as pd\n",
    "import matplotlib.pyplot as plt"
   ]
  },
  {
   "cell_type": "code",
   "execution_count": 76,
   "metadata": {
    "tags": []
   },
   "outputs": [],
   "source": [
    "data = []\n",
    "with open('./seeds_dataset.txt', 'r') as fr:\n",
    "    lines = fr.readlines()\n",
    "    for line in lines:\n",
    "        row_data = [float(num) for num in filter(lambda x: bool(x), line.split('\\t'))]\n",
    "        row_data[-1] -= 1\n",
    "        data.append(row_data)"
   ]
  },
  {
   "cell_type": "code",
   "execution_count": 77,
   "metadata": {},
   "outputs": [],
   "source": [
    "seeds_dataset = pd.DataFrame(np.array(data), columns=['area A', ' perimeter P', 'compactness C', 'length of kernel', 'width of kernel', 'asymmetry coefficient', 'length of kernel groove', 'varieties'])\n",
    "varieties = seeds_dataset['varieties']\n",
    "max_min_scaler = lambda x : (x-np.min(x))/(np.max(x)-np.min(x))\n",
    "seeds_dataset = seeds_dataset[['area A', ' perimeter P', 'compactness C', 'length of kernel', 'width of kernel', 'asymmetry coefficient', 'length of kernel groove']].apply(max_min_scaler)\n",
    "seeds_dataset['varieties'] = varieties.astype('int')"
   ]
  },
  {
   "cell_type": "code",
   "execution_count": 78,
   "metadata": {},
   "outputs": [],
   "source": [
    "seeds_dataset.to_csv('seeds_dataset.csv', index=False)"
   ]
  },
  {
   "cell_type": "code",
   "execution_count": 79,
   "metadata": {},
   "outputs": [],
   "source": [
    "iris_data = []\n",
    "with open('./iris.data', 'r') as fr:\n",
    "    lines = fr.readlines()\n",
    "    for line in lines:\n",
    "        row_data = [ num if num.startswith('Iris') else float(num) for num in filter(lambda x: bool(x), line.split('\\n')[0].split(','))]\n",
    "        if (len(row_data) != 0):\n",
    "            if row_data[-1] == 'Iris-setosa': row_data[-1]=0\n",
    "            if row_data[-1] == 'Iris-versicolor': row_data[-1]=1\n",
    "            if row_data[-1] == 'Iris-virginica': row_data[-1]=2\n",
    "            iris_data.append(row_data)"
   ]
  },
  {
   "cell_type": "code",
   "execution_count": 80,
   "metadata": {},
   "outputs": [],
   "source": [
    "iris_data = pd.DataFrame(np.array(iris_data), columns=['sepal length in cm', 'sepal width in cm', ' petal length in cm', 'petal width in cm', 'varieties'])\n",
    "varieties = iris_data['varieties']\n",
    "max_min_scaler = lambda x : (x-np.min(x))/(np.max(x)-np.min(x))\n",
    "iris_data = iris_data[['sepal length in cm', 'sepal width in cm', ' petal length in cm', 'petal width in cm']].apply(max_min_scaler)\n",
    "iris_data['varieties'] = varieties.astype('int')"
   ]
  },
  {
   "cell_type": "code",
   "execution_count": 81,
   "metadata": {},
   "outputs": [],
   "source": [
    "iris_data.to_csv('iris_data.csv', index=False)"
   ]
  },
  {
   "cell_type": "code",
   "execution_count": null,
   "metadata": {},
   "outputs": [],
   "source": []
  }
 ]
}