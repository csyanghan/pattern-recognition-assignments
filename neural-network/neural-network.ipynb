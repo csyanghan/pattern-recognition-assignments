{
 "metadata": {
  "language_info": {
   "codemirror_mode": {
    "name": "ipython",
    "version": 3
   },
   "file_extension": ".py",
   "mimetype": "text/x-python",
   "name": "python",
   "nbconvert_exporter": "python",
   "pygments_lexer": "ipython3",
   "version": "3.8.3-final"
  },
  "orig_nbformat": 2,
  "kernelspec": {
   "name": "python3",
   "display_name": "Python 3"
  }
 },
 "nbformat": 4,
 "nbformat_minor": 2,
 "cells": [
  {
   "cell_type": "code",
   "execution_count": 319,
   "metadata": {},
   "outputs": [],
   "source": [
    "import numpy as np\n",
    "import pandas as pd"
   ]
  },
  {
   "cell_type": "code",
   "execution_count": 320,
   "metadata": {},
   "outputs": [],
   "source": [
    "class NeuralNetwork:\n",
    "\n",
    "    def __init__(self, n_inputs, n_hiddens, n_outputs, lr=0.1):\n",
    "        self.n_outputs = n_outputs\n",
    "        self.lr = 0.1\n",
    "\n",
    "        self.network = list()\n",
    "        hidden_layer = [{'weights': np.random.randn(n_inputs+1)} for i in range(n_hiddens)]\n",
    "        self.network.append(hidden_layer)\n",
    "        output_layer = [{'weights': np.random.randn(n_hiddens+1)} for i in range(n_outputs)]\n",
    "        self.network.append(output_layer)\n",
    "\n",
    "        self.num_layers = len(self.network)\n",
    "    \n",
    "    def sigmoid_function(self, x):\n",
    "        return 1.0 / (1.0 + np.exp(-x))\n",
    "    \n",
    "    def activate_function(self, weights, inputs):\n",
    "        activation = weights[-1]\n",
    "        for i in range(len(inputs)):\n",
    "            activation += weights[i] * inputs[i]\n",
    "        return  self.sigmoid_function(activation)\n",
    "\n",
    "    def forward(self):\n",
    "        inputs = self.x\n",
    "        for layer in self.network:\n",
    "            layer_output = list()\n",
    "            for neuron in layer:\n",
    "                neuron['output'] = self.activate_function(neuron['weights'], inputs)\n",
    "                layer_output.append(neuron['output'])\n",
    "            inputs = layer_output\n",
    "        return inputs\n",
    "\n",
    "    def __call__(self, x):\n",
    "        # one sample\n",
    "        # label 必须是 one-hot 编码\n",
    "        self.x = x[:-1]\n",
    "        self.labels = [0 for i in range(self.n_outputs)]\n",
    "        self.labels[x[-1]] = 1\n",
    "        self.output = self.forward()\n",
    "        return self.output\n",
    "\n",
    "    def criterion(self):\n",
    "        # return error\n",
    "        return 0.5 * np.sum((np.array(self.output) - np.array(self.labels))**2)\n",
    "    \n",
    "    def error_backpropagate(self):\n",
    "        for i in reversed(range(self.num_layers)):\n",
    "            layer = self.network[i]\n",
    "            errors = list()\n",
    "            if i != self.num_layers -1 :\n",
    "                for j in range(len(layer)):\n",
    "                    error = 0.0\n",
    "                    for neuron in self.network[i+1]:\n",
    "                        error += (neuron['weights'][j] * neuron['delta'])\n",
    "                    errors.append(error)\n",
    "            else:\n",
    "                errors = np.array(self.labels) - np.array(self.output)\n",
    "            for j in range(len(layer)):\n",
    "                neuron = layer[j]\n",
    "                neuron['delta'] = errors[j] * neuron['output'] * ( 1 - neuron['output'] )\n",
    "    \n",
    "    def step(self):\n",
    "        self.error_backpropagate()\n",
    "        for i in range(len(self.network)):\n",
    "            inputs = self.x\n",
    "            if i != 0:\n",
    "                inputs = [neuron['output'] for neuron in self.network[i - 1]]\n",
    "            inputs.append(0)\n",
    "            for neuron in self.network[i]:\n",
    "                neuron['weights'] += self.lr * neuron['delta'] * np.array(inputs)\n",
    "                # 更新bias\n",
    "                neuron['weights'][-1] += self.lr * neuron['delta']"
   ]
  },
  {
   "cell_type": "code",
   "execution_count": 321,
   "metadata": {},
   "outputs": [
    {
     "output_type": "execute_result",
     "data": {
      "text/plain": [
       "           perimeter P  compactness C  length of kernel  width of kernel  \\\n",
       "area A                                                                     \n",
       "0.440982      0.502066       0.570780          0.486486         0.486101   \n",
       "0.405099      0.446281       0.662432          0.368806         0.501069   \n",
       "0.349386      0.347107       0.879310          0.220721         0.503920   \n",
       "0.306893      0.316116       0.793103          0.239302         0.533856   \n",
       "0.524079      0.533058       0.864791          0.427365         0.664291   \n",
       "...                ...            ...               ...              ...   \n",
       "0.151086      0.163223       0.637024          0.134009         0.250178   \n",
       "0.060434      0.097107       0.390200          0.135698         0.117605   \n",
       "0.246459      0.258264       0.727768          0.189752         0.429081   \n",
       "0.118036      0.165289       0.399274          0.155405         0.146828   \n",
       "0.161473      0.192149       0.547187          0.193694         0.245189   \n",
       "\n",
       "          asymmetry coefficient  length of kernel groove  varieties  \n",
       "area A                                                               \n",
       "0.440982               0.189302                 0.345150          0  \n",
       "0.405099               0.032883                 0.215165          0  \n",
       "0.349386               0.251453                 0.150665          0  \n",
       "0.306893               0.194243                 0.140817          0  \n",
       "0.524079               0.076701                 0.322994          0  \n",
       "...                         ...                      ...        ...  \n",
       "0.151086               0.372635                 0.172821          2  \n",
       "0.060434               0.462872                 0.238306          2  \n",
       "0.246459               0.981667                 0.264402          2  \n",
       "0.118036               0.368344                 0.258493          2  \n",
       "0.161473               0.633463                 0.267848          2  \n",
       "\n",
       "[210 rows x 7 columns]"
      ],
      "text/html": "<div>\n<style scoped>\n    .dataframe tbody tr th:only-of-type {\n        vertical-align: middle;\n    }\n\n    .dataframe tbody tr th {\n        vertical-align: top;\n    }\n\n    .dataframe thead th {\n        text-align: right;\n    }\n</style>\n<table border=\"1\" class=\"dataframe\">\n  <thead>\n    <tr style=\"text-align: right;\">\n      <th></th>\n      <th>perimeter P</th>\n      <th>compactness C</th>\n      <th>length of kernel</th>\n      <th>width of kernel</th>\n      <th>asymmetry coefficient</th>\n      <th>length of kernel groove</th>\n      <th>varieties</th>\n    </tr>\n    <tr>\n      <th>area A</th>\n      <th></th>\n      <th></th>\n      <th></th>\n      <th></th>\n      <th></th>\n      <th></th>\n      <th></th>\n    </tr>\n  </thead>\n  <tbody>\n    <tr>\n      <th>0.440982</th>\n      <td>0.502066</td>\n      <td>0.570780</td>\n      <td>0.486486</td>\n      <td>0.486101</td>\n      <td>0.189302</td>\n      <td>0.345150</td>\n      <td>0</td>\n    </tr>\n    <tr>\n      <th>0.405099</th>\n      <td>0.446281</td>\n      <td>0.662432</td>\n      <td>0.368806</td>\n      <td>0.501069</td>\n      <td>0.032883</td>\n      <td>0.215165</td>\n      <td>0</td>\n    </tr>\n    <tr>\n      <th>0.349386</th>\n      <td>0.347107</td>\n      <td>0.879310</td>\n      <td>0.220721</td>\n      <td>0.503920</td>\n      <td>0.251453</td>\n      <td>0.150665</td>\n      <td>0</td>\n    </tr>\n    <tr>\n      <th>0.306893</th>\n      <td>0.316116</td>\n      <td>0.793103</td>\n      <td>0.239302</td>\n      <td>0.533856</td>\n      <td>0.194243</td>\n      <td>0.140817</td>\n      <td>0</td>\n    </tr>\n    <tr>\n      <th>0.524079</th>\n      <td>0.533058</td>\n      <td>0.864791</td>\n      <td>0.427365</td>\n      <td>0.664291</td>\n      <td>0.076701</td>\n      <td>0.322994</td>\n      <td>0</td>\n    </tr>\n    <tr>\n      <th>...</th>\n      <td>...</td>\n      <td>...</td>\n      <td>...</td>\n      <td>...</td>\n      <td>...</td>\n      <td>...</td>\n      <td>...</td>\n    </tr>\n    <tr>\n      <th>0.151086</th>\n      <td>0.163223</td>\n      <td>0.637024</td>\n      <td>0.134009</td>\n      <td>0.250178</td>\n      <td>0.372635</td>\n      <td>0.172821</td>\n      <td>2</td>\n    </tr>\n    <tr>\n      <th>0.060434</th>\n      <td>0.097107</td>\n      <td>0.390200</td>\n      <td>0.135698</td>\n      <td>0.117605</td>\n      <td>0.462872</td>\n      <td>0.238306</td>\n      <td>2</td>\n    </tr>\n    <tr>\n      <th>0.246459</th>\n      <td>0.258264</td>\n      <td>0.727768</td>\n      <td>0.189752</td>\n      <td>0.429081</td>\n      <td>0.981667</td>\n      <td>0.264402</td>\n      <td>2</td>\n    </tr>\n    <tr>\n      <th>0.118036</th>\n      <td>0.165289</td>\n      <td>0.399274</td>\n      <td>0.155405</td>\n      <td>0.146828</td>\n      <td>0.368344</td>\n      <td>0.258493</td>\n      <td>2</td>\n    </tr>\n    <tr>\n      <th>0.161473</th>\n      <td>0.192149</td>\n      <td>0.547187</td>\n      <td>0.193694</td>\n      <td>0.245189</td>\n      <td>0.633463</td>\n      <td>0.267848</td>\n      <td>2</td>\n    </tr>\n  </tbody>\n</table>\n<p>210 rows × 7 columns</p>\n</div>"
     },
     "metadata": {},
     "execution_count": 321
    }
   ],
   "source": [
    "seeds_dataset = pd.read_csv('./seeds_dataset.csv', index_col=0)\n",
    "seeds_dataset"
   ]
  },
  {
   "cell_type": "code",
   "execution_count": 322,
   "metadata": {},
   "outputs": [
    {
     "output_type": "stream",
     "name": "stdout",
     "text": [
      "seeds dataset, k_fold: 1, accurancy: 88.57142857142857%\n",
      "seeds dataset, k_fold: 2, accurancy: 86.11111111111111%\n",
      "seeds dataset, k_fold: 3, accurancy: 86.48648648648648%\n",
      "seeds dataset, k_fold: 4, accurancy: 90.9090909090909%\n",
      "seeds dataset, k_fold: 5, accurancy: 97.05882352941177%\n"
     ]
    }
   ],
   "source": [
    "def cross_validation_split(dataset, n_fold):\n",
    "    data_split = list()\n",
    "    for i in range(n_fold):\n",
    "        train_data = dataset.sample(frac=0.8, random_state=i)\n",
    "        test_data = dataset[~dataset.index.isin(train_data.index)]\n",
    "        data_split.append([train_data, test_data])\n",
    "    return data_split\n",
    "data_split = cross_validation_split(seeds_dataset, 5)\n",
    "max_epoch = 100\n",
    "for idx, (train_data, valid_data) in enumerate(data_split):\n",
    "    net = NeuralNetwork(7,5,3)\n",
    "    for epcoh in range(max_epoch):\n",
    "        for x in train_data.itertuples():\n",
    "            x = list(x)\n",
    "            output = net(x)\n",
    "            loss = net.criterion()\n",
    "            net.step()\n",
    "    total = 0\n",
    "    correct = 0\n",
    "    for x in valid_data.itertuples():\n",
    "        x = list(x)\n",
    "        outputs = net(x)\n",
    "        predicted = outputs.index(max(outputs))\n",
    "        correct += x[-1] == predicted\n",
    "        total += 1\n",
    "    print('seeds dataset, k_fold: {}, accurancy: {}%'.format(idx+1, correct*100/total))"
   ]
  },
  {
   "cell_type": "code",
   "execution_count": 323,
   "metadata": {},
   "outputs": [
    {
     "output_type": "execute_result",
     "data": {
      "text/plain": [
       "                    sepal width in cm   petal length in cm  petal width in cm  \\\n",
       "sepal length in cm                                                              \n",
       "0.222222                     0.625000             0.067797           0.041667   \n",
       "0.166667                     0.416667             0.067797           0.041667   \n",
       "0.111111                     0.500000             0.050847           0.041667   \n",
       "0.083333                     0.458333             0.084746           0.041667   \n",
       "0.194444                     0.666667             0.067797           0.041667   \n",
       "...                               ...                  ...                ...   \n",
       "0.666667                     0.416667             0.711864           0.916667   \n",
       "0.555556                     0.208333             0.677966           0.750000   \n",
       "0.611111                     0.416667             0.711864           0.791667   \n",
       "0.527778                     0.583333             0.745763           0.916667   \n",
       "0.444444                     0.416667             0.694915           0.708333   \n",
       "\n",
       "                    varieties  \n",
       "sepal length in cm             \n",
       "0.222222                    0  \n",
       "0.166667                    0  \n",
       "0.111111                    0  \n",
       "0.083333                    0  \n",
       "0.194444                    0  \n",
       "...                       ...  \n",
       "0.666667                    2  \n",
       "0.555556                    2  \n",
       "0.611111                    2  \n",
       "0.527778                    2  \n",
       "0.444444                    2  \n",
       "\n",
       "[150 rows x 4 columns]"
      ],
      "text/html": "<div>\n<style scoped>\n    .dataframe tbody tr th:only-of-type {\n        vertical-align: middle;\n    }\n\n    .dataframe tbody tr th {\n        vertical-align: top;\n    }\n\n    .dataframe thead th {\n        text-align: right;\n    }\n</style>\n<table border=\"1\" class=\"dataframe\">\n  <thead>\n    <tr style=\"text-align: right;\">\n      <th></th>\n      <th>sepal width in cm</th>\n      <th>petal length in cm</th>\n      <th>petal width in cm</th>\n      <th>varieties</th>\n    </tr>\n    <tr>\n      <th>sepal length in cm</th>\n      <th></th>\n      <th></th>\n      <th></th>\n      <th></th>\n    </tr>\n  </thead>\n  <tbody>\n    <tr>\n      <th>0.222222</th>\n      <td>0.625000</td>\n      <td>0.067797</td>\n      <td>0.041667</td>\n      <td>0</td>\n    </tr>\n    <tr>\n      <th>0.166667</th>\n      <td>0.416667</td>\n      <td>0.067797</td>\n      <td>0.041667</td>\n      <td>0</td>\n    </tr>\n    <tr>\n      <th>0.111111</th>\n      <td>0.500000</td>\n      <td>0.050847</td>\n      <td>0.041667</td>\n      <td>0</td>\n    </tr>\n    <tr>\n      <th>0.083333</th>\n      <td>0.458333</td>\n      <td>0.084746</td>\n      <td>0.041667</td>\n      <td>0</td>\n    </tr>\n    <tr>\n      <th>0.194444</th>\n      <td>0.666667</td>\n      <td>0.067797</td>\n      <td>0.041667</td>\n      <td>0</td>\n    </tr>\n    <tr>\n      <th>...</th>\n      <td>...</td>\n      <td>...</td>\n      <td>...</td>\n      <td>...</td>\n    </tr>\n    <tr>\n      <th>0.666667</th>\n      <td>0.416667</td>\n      <td>0.711864</td>\n      <td>0.916667</td>\n      <td>2</td>\n    </tr>\n    <tr>\n      <th>0.555556</th>\n      <td>0.208333</td>\n      <td>0.677966</td>\n      <td>0.750000</td>\n      <td>2</td>\n    </tr>\n    <tr>\n      <th>0.611111</th>\n      <td>0.416667</td>\n      <td>0.711864</td>\n      <td>0.791667</td>\n      <td>2</td>\n    </tr>\n    <tr>\n      <th>0.527778</th>\n      <td>0.583333</td>\n      <td>0.745763</td>\n      <td>0.916667</td>\n      <td>2</td>\n    </tr>\n    <tr>\n      <th>0.444444</th>\n      <td>0.416667</td>\n      <td>0.694915</td>\n      <td>0.708333</td>\n      <td>2</td>\n    </tr>\n  </tbody>\n</table>\n<p>150 rows × 4 columns</p>\n</div>"
     },
     "metadata": {},
     "execution_count": 323
    }
   ],
   "source": [
    "iris_dataset = pd.read_csv('./iris_data.csv', index_col=0)\n",
    "iris_dataset"
   ]
  },
  {
   "cell_type": "code",
   "execution_count": 324,
   "metadata": {},
   "outputs": [
    {
     "output_type": "stream",
     "name": "stdout",
     "text": [
      "iris dataset, k_fold: 1, accurancy: 100.0%\n",
      "iris dataset, k_fold: 2, accurancy: 100.0%\n",
      "iris dataset, k_fold: 3, accurancy: 100.0%\n",
      "iris dataset, k_fold: 4, accurancy: 100.0%\n",
      "iris dataset, k_fold: 5, accurancy: 100.0%\n"
     ]
    }
   ],
   "source": [
    "data_split = cross_validation_split(iris_dataset, 5)\n",
    "max_epoch = 100\n",
    "for idx, (train_data, valid_data) in enumerate(data_split):\n",
    "    net = NeuralNetwork(4,5,3)\n",
    "    for epcoh in range(max_epoch):\n",
    "        for x in train_data.itertuples():\n",
    "            x = list(x)\n",
    "            output = net(x)\n",
    "            loss = net.criterion()\n",
    "            net.step()\n",
    "    total = 0\n",
    "    correct = 0\n",
    "    for x in valid_data.itertuples():\n",
    "        x = list(x)\n",
    "        outputs = net(x)\n",
    "        predicted = outputs.index(max(outputs))\n",
    "        correct += x[-1] == predicted\n",
    "        total += 1\n",
    "    print('iris dataset, k_fold: {}, accurancy: {}%'.format(idx+1, correct*100/total))"
   ]
  },
  {
   "cell_type": "code",
   "execution_count": null,
   "metadata": {},
   "outputs": [],
   "source": []
  }
 ]
}